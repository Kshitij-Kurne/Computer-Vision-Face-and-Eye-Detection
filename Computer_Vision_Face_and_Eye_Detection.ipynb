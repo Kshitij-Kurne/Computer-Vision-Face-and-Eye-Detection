{
  "cells": [
    {
      "cell_type": "code",
      "execution_count": 1,
      "metadata": {
        "id": "ms2BsVo0amow"
      },
      "outputs": [],
      "source": [
        "# cv2 is the name of the OpenCV library\n",
        "\n",
        "import cv2"
      ]
    },
    {
      "cell_type": "code",
      "execution_count": 2,
      "metadata": {
        "id": "vi3r8xtobpWB"
      },
      "outputs": [],
      "source": [
        "# Load the image\n",
        "\n",
        "image = cv2.imread('/content/Images/people1.jpg')"
      ]
    },
    {
      "cell_type": "code",
      "execution_count": 3,
      "metadata": {
        "colab": {
          "base_uri": "https://localhost:8080/"
        },
        "id": "qBgOKgeSfez_",
        "outputId": "f60d8736-df05-43a6-966f-c6a86d90c824"
      },
      "outputs": [
        {
          "output_type": "execute_result",
          "data": {
            "text/plain": [
              "(1372, 1920, 3)"
            ]
          },
          "metadata": {},
          "execution_count": 3
        }
      ],
      "source": [
        "image.shape"
      ]
    },
    {
      "cell_type": "code",
      "execution_count": null,
      "metadata": {
        "id": "KpTr9C_pfjgP"
      },
      "outputs": [],
      "source": [
        "# Display the image\n",
        "from google.colab.patches import cv2_imshow\n",
        "cv2_imshow(image)"
      ]
    },
    {
      "cell_type": "markdown",
      "metadata": {
        "id": "-_P8JXnphCAc"
      },
      "source": [
        "🔴 Since the image is very big the system might tame some time to process it. So we can resize the image to reduce the processing time for face detection."
      ]
    },
    {
      "cell_type": "code",
      "execution_count": 5,
      "metadata": {
        "colab": {
          "base_uri": "https://localhost:8080/"
        },
        "id": "Z0GmehfxfsOr",
        "outputId": "e1a9c145-b3a8-405f-c786-749fb4788630"
      },
      "outputs": [
        {
          "output_type": "execute_result",
          "data": {
            "text/plain": [
              "(600, 800, 3)"
            ]
          },
          "metadata": {},
          "execution_count": 5
        }
      ],
      "source": [
        "# image resize\n",
        "\n",
        "image = cv2.resize(image, (800,600))\n",
        "image.shape"
      ]
    },
    {
      "cell_type": "code",
      "execution_count": null,
      "metadata": {
        "id": "D4guFRKPiS8S"
      },
      "outputs": [],
      "source": [
        "cv2_imshow(image)"
      ]
    },
    {
      "cell_type": "markdown",
      "metadata": {
        "id": "Nl_HFb7OjA79"
      },
      "source": [
        "🟠 Converting the image to grey scale."
      ]
    },
    {
      "cell_type": "code",
      "execution_count": null,
      "metadata": {
        "id": "ZxUux-rLiYFR"
      },
      "outputs": [],
      "source": [
        "image_gray = cv2.cvtColor(image, cv2.COLOR_BGR2GRAY)\n",
        "cv2_imshow(image_gray)"
      ]
    },
    {
      "cell_type": "markdown",
      "metadata": {
        "id": "7wAC9DfZkAlD"
      },
      "source": [
        "🟡 Now we will detect the faces in the given image."
      ]
    },
    {
      "cell_type": "code",
      "execution_count": 8,
      "metadata": {
        "id": "_Wni_CRKjvAe"
      },
      "outputs": [],
      "source": [
        "face_detection = cv2.CascadeClassifier('/content/Cascades/haarcascade_frontalface_default.xml')"
      ]
    },
    {
      "cell_type": "code",
      "execution_count": 9,
      "metadata": {
        "id": "pcCvPqJelW_7"
      },
      "outputs": [],
      "source": [
        "detections = face_detection.detectMultiScale(image_gray)"
      ]
    },
    {
      "cell_type": "markdown",
      "metadata": {
        "id": "jU7eyanDmTPh"
      },
      "source": [
        "🟠 Each row in the result represents the number of faces."
      ]
    },
    {
      "cell_type": "code",
      "execution_count": 10,
      "metadata": {
        "colab": {
          "base_uri": "https://localhost:8080/"
        },
        "id": "db1Pangdl3UQ",
        "outputId": "56ac95b0-e6a5-4871-c1fc-6f8de9fbbe15"
      },
      "outputs": [
        {
          "output_type": "execute_result",
          "data": {
            "text/plain": [
              "array([[576, 143,  40,  40],\n",
              "       [328, 171,  30,  30],\n",
              "       [179, 193,  39,  39],\n",
              "       [466, 256,  40,  40]], dtype=int32)"
            ]
          },
          "metadata": {},
          "execution_count": 10
        }
      ],
      "source": [
        "detections"
      ]
    },
    {
      "cell_type": "code",
      "execution_count": 11,
      "metadata": {
        "colab": {
          "base_uri": "https://localhost:8080/"
        },
        "id": "FXh-u84xmAl3",
        "outputId": "c5619906-6f0f-421e-85bb-120503ac54c6"
      },
      "outputs": [
        {
          "output_type": "execute_result",
          "data": {
            "text/plain": [
              "4"
            ]
          },
          "metadata": {},
          "execution_count": 11
        }
      ],
      "source": [
        "len(detections)"
      ]
    },
    {
      "cell_type": "markdown",
      "metadata": {
        "id": "7UuZe4qVnE39"
      },
      "source": [
        "🟠 Let's draw the boxes around the faces detected."
      ]
    },
    {
      "cell_type": "code",
      "execution_count": null,
      "metadata": {
        "id": "xFB98aeJneAI"
      },
      "outputs": [],
      "source": [
        "for(x, y, w, h) in detections:\n",
        "  cv2.rectangle(image, (x,y),(x,y), (0, 255, 2), 2)\n",
        "  cv2_imshow(image)"
      ]
    },
    {
      "cell_type": "code",
      "execution_count": null,
      "metadata": {
        "id": "626Cf5T5wtCv"
      },
      "outputs": [],
      "source": [
        "for(x, y, w, h) in detections:\n",
        "  cv2.rectangle(image, (x,y),(x+w,y+h), (0, 255, 2), 2)\n",
        "  cv2_imshow(image)"
      ]
    },
    {
      "cell_type": "markdown",
      "metadata": {
        "id": "butK9N3WyaLS"
      },
      "source": [
        "🟢 If the algorithm is not able to detect the face properly we need to adjust the parameters using scaleFactor."
      ]
    },
    {
      "cell_type": "code",
      "execution_count": null,
      "metadata": {
        "id": "2_JVo20lxSuG"
      },
      "outputs": [],
      "source": [
        "detections = face_detection.detectMultiScale(image_gray, scaleFactor = 1.1)\n",
        "for(x, y, w, h) in detections:\n",
        "  cv2.rectangle(image, (x,y),(x+w,y+h), (0, 255, 2), 2)\n",
        "  cv2_imshow(image)"
      ]
    },
    {
      "cell_type": "markdown",
      "source": [
        "🔵 Let's do eye detection."
      ],
      "metadata": {
        "id": "sYqd-BZikvae"
      }
    },
    {
      "cell_type": "code",
      "source": [
        "eye_detector = cv2.CascadeClassifier('/content/Cascades/haarcascade_eye.xml')"
      ],
      "metadata": {
        "id": "zQG45C_Yk2y1"
      },
      "execution_count": 16,
      "outputs": []
    },
    {
      "cell_type": "code",
      "source": [
        "image = cv2.imread('/content/Images/people1.jpg')\n",
        "image_gray = cv2.cvtColor(image, cv2.COLOR_BGR2GRAY)\n",
        "eye_detection = eye_detector.detectMultiScale(image_gray)\n",
        "for(x, y, w, h) in eye_detection:\n",
        "  cv2.rectangle(image, (x,y),(x+w,y+h), (255, 0, 0), 2)\n",
        "\n",
        "cv2_imshow(image)"
      ],
      "metadata": {
        "id": "vqiADvwTlKon"
      },
      "execution_count": null,
      "outputs": []
    },
    {
      "cell_type": "markdown",
      "source": [
        "🟢 If the algorithm is not able to detect the eyes properly we need to adjust the parameters using scaleFactor."
      ],
      "metadata": {
        "id": "CvD6V3SUnxVF"
      }
    },
    {
      "cell_type": "code",
      "source": [
        "image = cv2.imread('/content/Images/people1.jpg')\n",
        "image_gray = cv2.cvtColor(image, cv2.COLOR_BGR2GRAY)\n",
        "eye_detection = eye_detector.detectMultiScale(image_gray, scaleFactor = 3.0, maxSize = (40,40))\n",
        "for(x, y, w, h) in eye_detection:\n",
        "  cv2.rectangle(image, (x,y),(x+w,y+h), (255, 0, 0), 2)\n",
        "  print(w,h)\n",
        "cv2_imshow(image)"
      ],
      "metadata": {
        "id": "4P972vmsnu0R"
      },
      "execution_count": null,
      "outputs": []
    },
    {
      "cell_type": "markdown",
      "source": [
        "🟢 Dispay both face and eye borders."
      ],
      "metadata": {
        "id": "rbz_VC5YxsYe"
      }
    },
    {
      "cell_type": "code",
      "source": [
        "image = cv2.imread('/content/Images/people1.jpg')\n",
        "image_gray = cv2.cvtColor(image, cv2.COLOR_BGR2GRAY)\n",
        "\n",
        "detections = face_detection.detectMultiScale(image_gray, scaleFactor = 1.5, minSize = (68,68), maxSize = (77,77))\n",
        "for(x, y, w, h) in detections:\n",
        "  cv2.rectangle(image, (x,y),(x+w,y+h), (0, 255, 2), 2)\n",
        "  print('Size of face borders:', (w,h))\n",
        "\n",
        "eye_detection = eye_detector.detectMultiScale(image_gray, scaleFactor = 3.0, maxSize = (40,40))\n",
        "for(x, y, w, h) in eye_detection:\n",
        "  cv2.rectangle(image, (x,y),(x+w,y+h), (255, 0, 0), 2)\n",
        "  print('Size of eye borders:', (w,h))\n",
        "cv2_imshow(image)"
      ],
      "metadata": {
        "id": "0uiiOjztoL5V"
      },
      "execution_count": null,
      "outputs": []
    },
    {
      "cell_type": "code",
      "source": [],
      "metadata": {
        "id": "Qe5_d70yyR8-"
      },
      "execution_count": null,
      "outputs": []
    }
  ],
  "metadata": {
    "colab": {
      "provenance": []
    },
    "kernelspec": {
      "display_name": "Python 3",
      "name": "python3"
    },
    "language_info": {
      "name": "python"
    },
    "accelerator": "GPU",
    "gpuClass": "standard"
  },
  "nbformat": 4,
  "nbformat_minor": 0
}